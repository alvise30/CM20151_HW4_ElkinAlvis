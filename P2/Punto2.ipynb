{
 "metadata": {
  "name": "",
  "signature": "sha256:e05c6034699ae6c06c4559e6b34bc7e0cc2ed31660ee8d15dead2efe967ccc41"
 },
 "nbformat": 3,
 "nbformat_minor": 0,
 "worksheets": [
  {
   "cells": [
    {
     "cell_type": "code",
     "collapsed": false,
     "input": [
      "%pylab inline\n",
      "import pandas as pd"
     ],
     "language": "python",
     "metadata": {},
     "outputs": [
      {
       "output_type": "stream",
       "stream": "stdout",
       "text": [
        "Populating the interactive namespace from numpy and matplotlib\n"
       ]
      }
     ],
     "prompt_number": 5
    },
    {
     "cell_type": "markdown",
     "metadata": {},
     "source": [
      "a)\n",
      "---\n",
      "Este punto debe generar un arcivo *.csv* que contenga los 300 r\u00edos con mayor caudal en cat\u00e1logo dado  \n",
      "**Debe estar escrito en python**  \n",
      "***Terminado***"
     ]
    },
    {
     "cell_type": "code",
     "collapsed": false,
     "input": [
      "xl = pd.ExcelFile('coastal-stns-byVol-updated-oct2007.xlsx') #esto descarga el archivo de Excel, distingue entre las sheet que quiero importar e imprime el inicio \n",
      "xl.sheet_names \n",
      "[u'hoja1'] \n",
      "dfini = xl.parse(\"hoja1\") #variable que guarda las columnas del archivo df"
     ],
     "language": "python",
     "metadata": {},
     "outputs": [],
     "prompt_number": 2
    },
    {
     "cell_type": "code",
     "collapsed": false,
     "input": [
      "df = dfini.iloc[:,(0,1,2,3,4,5)]\n",
      "df = df.sort(columns = 'm2s_ratio', ascending = False)\n",
      "df300 = df.iloc[:300,:]\n",
      "df300.to_csv('datos.csv', index=False)"
     ],
     "language": "python",
     "metadata": {},
     "outputs": [],
     "prompt_number": 3
    },
    {
     "cell_type": "code",
     "collapsed": false,
     "input": [
      "!head datos.csv"
     ],
     "language": "python",
     "metadata": {},
     "outputs": [
      {
       "output_type": "stream",
       "stream": "stdout",
       "text": [
        "No,m2s_ratio,lonm,latm,area(km2),Vol(km3/yr)\r\n",
        "52,53333,7.25,7.75,60500.0,10603\r\n",
        "25,36429,-77.25,6.25,9432.0,55789\r\n",
        "49,33002,-122.25,37.75,60885.0,21504\r\n",
        "70,22857,86.75,20.75,50000.0,21283\r\n",
        "29,22319,-58.75,6.25,66600.0,66436\r\n",
        "55,21111,120.25,34.25,121330.0,26971\r\n",
        "187,20000,135.25,-14.75,47400.0,3147\r\n",
        "90,19444,103.25,3.25,19000.0,16895\r\n",
        "54,19000,-81.75,52.25,118000.0,30080\r\n"
       ]
      }
     ],
     "prompt_number": 4
    },
    {
     "cell_type": "markdown",
     "metadata": {},
     "source": [
      "b)\n",
      "-----\n",
      "Este punto debe generar una gr\u00e1fica .png de los 150 r\u00edos con mayor caudal del cat\u00e1logo.   \n",
      "**Debe estar escrito en Python**\n",
      "###**Para el final, corre muy lento en mi computador**"
     ]
    },
    {
     "cell_type": "code",
     "collapsed": false,
     "input": [
      "from netCDF4 import Dataset, num2date\n",
      "from mpl_toolkits.basemap import Basemap"
     ],
     "language": "python",
     "metadata": {},
     "outputs": [
      {
       "output_type": "stream",
       "stream": "stderr",
       "text": [
        "/usr/lib/python2.7/dist-packages/pkg_resources.py:1049: UserWarning: /home/alvise/.python-eggs is writable by group/others and vulnerable to attack when used with get_resource_filename. Consider a more secure location (set with .set_extraction_path or the PYTHON_EGG_CACHE environment variable).\n",
        "  warnings.warn(msg, UserWarning)\n"
       ]
      }
     ],
     "prompt_number": 5
    },
    {
     "cell_type": "code",
     "collapsed": false,
     "input": [
      "array = np.genfromtxt(\"datos.csv\",delimiter=\",\") #sube el csv\n",
      "LAT = array[:,2] #elige las columnas de interes\n",
      "LON = array[:,3] "
     ],
     "language": "python",
     "metadata": {},
     "outputs": [],
     "prompt_number": 6
    },
    {
     "cell_type": "raw",
     "metadata": {},
     "source": []
    },
    {
     "cell_type": "code",
     "collapsed": false,
     "input": [
      "plt.figure(figsize=(40,35)) #tama;o de la imagen\n",
      "map = Basemap(projection='robin', lat_0=0, lon_0=120, #ubicacion del mapa mundi centrado en dichas lat y lon\n",
      "resolution = 'l', area_thresh = 1000.0)\n",
      "plt.title(u\"Ubicacion r\u00edos m\u00e1s caudalosos\",fontsize=36)\n",
      "map.drawcoastlines()\n",
      "map.drawcountries()\n",
      "map.bluemarble()\n",
      "map.drawmapboundary()\n",
      "map.drawmeridians(np.arange(0, 360, 30))\n",
      "map.drawparallels(np.arange(-90, 90, 30))\n",
      "#aqui se generan los datos x,y para graficar con plot\n",
      "x,y = map(LAT, LON)\n",
      "map.scatter(x, y, color='red')\n",
      "map.drawmeridians(np.arange(0, 360, 30))\n",
      "map.drawparallels(np.arange(-90, 90, 30))\n",
      "#show()\n",
      "plt.savefig('myfig.png')"
     ],
     "language": "python",
     "metadata": {},
     "outputs": []
    },
    {
     "cell_type": "markdown",
     "metadata": {},
     "source": [
      "c)\n",
      "-------\n",
      "Este punto debe graficar un archivo .nc. Tambi\u00e9n debe realizar una interpolaci\u00f3n nearest neighbors de esos\n",
      "valores, generar un grafico y comentar.  \n",
      "**Debe estar escrito en Python**"
     ]
    },
    {
     "cell_type": "code",
     "collapsed": false,
     "input": [
      "from netCDF4 import Dataset\n",
      "from mpl_toolkits.basemap import Basemap"
     ],
     "language": "python",
     "metadata": {},
     "outputs": [
      {
       "output_type": "stream",
       "stream": "stderr",
       "text": [
        "/usr/lib/python2.7/dist-packages/pkg_resources.py:1049: UserWarning: /home/alvise/.python-eggs is writable by group/others and vulnerable to attack when used with get_resource_filename. Consider a more secure location (set with .set_extraction_path or the PYTHON_EGG_CACHE environment variable).\n",
        "  warnings.warn(msg, UserWarning)\n"
       ]
      }
     ],
     "prompt_number": 1
    },
    {
     "cell_type": "code",
     "collapsed": false,
     "input": [
      "nc = Dataset('air.mon.ltm.nc')\n",
      "nc.variables.keys()"
     ],
     "language": "python",
     "metadata": {},
     "outputs": [
      {
       "metadata": {},
       "output_type": "pyout",
       "prompt_number": 2,
       "text": [
        "[u'lat', u'lon', u'time', u'climatology_bounds', u'air', u'valid_yr_count']"
       ]
      }
     ],
     "prompt_number": 2
    },
    {
     "cell_type": "code",
     "collapsed": false,
     "input": [
      "air = nc.variables['air'][0,:,:]\n",
      "lat = nc.variables['lat'][:]\n",
      "lon = nc.variables['lon'][:]"
     ],
     "language": "python",
     "metadata": {},
     "outputs": [],
     "prompt_number": 3
    },
    {
     "cell_type": "code",
     "collapsed": false,
     "input": [
      "lon2d, lat2d = meshgrid(lon, lat)\n",
      "b = Basemap(lon_0=180) #This defines the center of the map, 180 since longitudes go from 0 to 360\n",
      "x, y = b(lon2d, lat2d)\n",
      "b.contourf(x, y, air, cmap=get_cmap('Greens'))\n",
      "b.drawcoastlines()\n",
      "b.colorbar();"
     ],
     "language": "python",
     "metadata": {},
     "outputs": [
      {
       "metadata": {},
       "output_type": "display_data",
       "png": "[encoded data removed]",
       "text": [
        "<matplotlib.figure.Figure at 0xadb0a80c>"
       ]
      }
     ],
     "prompt_number": 6
    },
    {
     "cell_type": "markdown",
     "metadata": {},
     "source": [
      "Hasta aqu\u00ed est\u00e1 perfecto\n",
      "-------------------------"
     ]
    },
    {
     "cell_type": "code",
     "collapsed": false,
     "input": [],
     "language": "python",
     "metadata": {},
     "outputs": [],
     "prompt_number": 16
    },
    {
     "cell_type": "code",
     "collapsed": false,
     "input": [],
     "language": "python",
     "metadata": {},
     "outputs": [],
     "prompt_number": 16
    }
   ],
   "metadata": {}
  }
 ]
}