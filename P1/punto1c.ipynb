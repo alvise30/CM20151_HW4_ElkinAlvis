{
 "metadata": {
  "name": "",
  "signature": "sha256:e668ffbb7bf282def314329606dacb8d185b37b2fcb0150cb83e0493403447d0"
 },
 "nbformat": 3,
 "nbformat_minor": 0,
 "worksheets": [
  {
   "cells": [
    {
     "cell_type": "code",
     "collapsed": false,
     "input": [
      "%pylab inline"
     ],
     "language": "python",
     "metadata": {},
     "outputs": [
      {
       "output_type": "stream",
       "stream": "stdout",
       "text": [
        "Populating the interactive namespace from numpy and matplotlib\n"
       ]
      }
     ],
     "prompt_number": 1
    },
    {
     "cell_type": "markdown",
     "metadata": {},
     "source": [
      "c) *Ni puta idea de que hacer :S*\n",
      "----\n",
      "Este punto debe expresar la posici\u00f3n tomada en el punto anterior y justificarla estadisticamente.  \n",
      "**Debe ser un HTML**  "
     ]
    },
    {
     "cell_type": "code",
     "collapsed": false,
     "input": [],
     "language": "python",
     "metadata": {},
     "outputs": []
    }
   ],
   "metadata": {}
  }
 ]
}