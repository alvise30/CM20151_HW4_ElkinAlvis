{
 "metadata": {
  "name": "",
  "signature": "sha256:822d5d753561a9b0e57f6606e4562773b9979fa0df77236ebd00327396f4ec8b"
 },
 "nbformat": 3,
 "nbformat_minor": 0,
 "worksheets": []
}