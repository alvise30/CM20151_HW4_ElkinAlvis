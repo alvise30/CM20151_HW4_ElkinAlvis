{
 "metadata": {
  "name": "",
  "signature": "sha256:83953d193c78ad6c56c185019e8cfb2ea2f1d0857cd91929b78ea935ad56f288"
 },
 "nbformat": 3,
 "nbformat_minor": 0,
 "worksheets": [
  {
   "cells": [
    {
     "cell_type": "code",
     "collapsed": false,
     "input": [
      "%pylab inline"
     ],
     "language": "python",
     "metadata": {},
     "outputs": [
      {
       "output_type": "stream",
       "stream": "stdout",
       "text": [
        "Populating the interactive namespace from numpy and matplotlib\n"
       ]
      }
     ],
     "prompt_number": 1
    },
    {
     "cell_type": "markdown",
     "metadata": {},
     "source": [
      "a)\n",
      "----\n",
      "Es te punto debe descargar los datos de las ciudades del enunciado. Debe hacer una representaci\u00f3n limpia de estos datos. Debe generar una gr\u00e1fica para cada una de las ciudades.  \n",
      "**Debe estar escrito en R**"
     ]
    },
    {
     "cell_type": "markdown",
     "metadata": {},
     "source": [
      "b)\n",
      "----\n",
      "Este punto debe hacer una interpolaci\u00f3n lineal, polin\u00f3mica y por splines de los datos anteriores. Comente su respesta.  \n",
      "**Debe estar escrito en Python**"
     ]
    },
    {
     "cell_type": "code",
     "collapsed": false,
     "input": [],
     "language": "python",
     "metadata": {},
     "outputs": []
    }
   ],
   "metadata": {}
  }
 ]
}