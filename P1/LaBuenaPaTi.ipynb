{
 "metadata": {
  "name": "",
  "signature": "sha256:0811573670501e5abdbb7f55cdfade3c42d00c740a48bbec27c18122d904dc82"
 },
 "nbformat": 3,
 "nbformat_minor": 0,
 "worksheets": [
  {
   "cells": [
    {
     "cell_type": "code",
     "collapsed": false,
     "input": [
      "%pylab inline\n",
      "import pandas as pd\n",
      "import scipy.interpolate"
     ],
     "language": "python",
     "metadata": {},
     "outputs": [
      {
       "output_type": "stream",
       "stream": "stdout",
       "text": [
        "Populating the interactive namespace from numpy and matplotlib\n"
       ]
      }
     ],
     "prompt_number": 1
    },
    {
     "cell_type": "code",
     "collapsed": false,
     "input": [
      "xl = pd.ExcelFile('temperaturas.xlsx') #esto descarga el archivo de Excel, distingue entre las sheet que quiero importar e imprime el inicio \n",
      "xl.sheet_names \n",
      "[u'temperaturas'] \n",
      "dfinit = xl.parse(\"temperaturas\") #variable que guarda las columnas del archivo df\n",
      "cities = ['bogota', 'ipiales', 'cali', 'quilla', 'bucaramanga']"
     ],
     "language": "python",
     "metadata": {},
     "outputs": [],
     "prompt_number": 2
    },
    {
     "cell_type": "code",
     "collapsed": false,
     "input": [
      "def conver(d):\n",
      "    dates=[]   \n",
      "    for fecha in d:\n",
      "        date = datetime.datetime.strptime(fecha,\"%Y-%m-%d\")\n",
      "        dates.append(date)\n",
      "    dates = matplotlib.dates.date2num(dates)\n",
      "    dates = sort(dates)\n",
      "    return dates"
     ],
     "language": "python",
     "metadata": {},
     "outputs": [],
     "prompt_number": 3
    },
    {
     "cell_type": "code",
     "collapsed": false,
     "input": [
      "def graficar(dates,lin,spl):\n",
      "    figure(figsize=(15,10))\n",
      "    plt.subplot(3, 1, 1)\n",
      "    plot_date(dates, t, 'mv')\n",
      "    plot_date(dates,(lin.iloc[:,2]), 'b', c='g' )\n",
      "    plt.title(c)\n",
      "    plt.ylabel(u\"Temeperatura (Celsius)\")\n",
      "    plt.legend([u'Datos', u'Interpolaci\u00f3n Lineal'])\n",
      "    plt.subplot(3, 1, 2)\n",
      "    plot_date(dates, t, 'mv')\n",
      "    plot_date(dates,(spl.iloc[:,2]), 'b', c='b' )\n",
      "    plt.ylabel(u'Temperatura(\u00baC)')\n",
      "    plt.legend([u'Datos', u'Interpolaci\u00f3n Splines'])\n",
      "    plt.savefig(c+'.pdf')\n",
      "    plt.show()    "
     ],
     "language": "python",
     "metadata": {},
     "outputs": [],
     "prompt_number": 4
    },
    {
     "cell_type": "raw",
     "metadata": {},
     "source": [
      "#No correr esta mierda :s\n",
      "#Agregar al final\n",
      "dfinit.interpolate(method='polynomial', order=2)"
     ]
    },
    {
     "cell_type": "code",
     "collapsed": false,
     "input": [
      "for ciudad in cities:\n",
      "    df = dfinit[dfinit.ciudad == ciudad]\n",
      "    df = df.iloc[:,[2,3,4]]\n",
      "    d = df.iloc[:,0]\n",
      "    t = df.iloc[:,2]\n",
      "    c = df.iloc[5,1]\n",
      "    dates = conver(d)\n",
      "    lin = df.interpolate()\n",
      "    spl = df.interpolate(method='spline', order=3)\n",
      "    #graficar(dates,lin,spl)"
     ],
     "language": "python",
     "metadata": {},
     "outputs": [],
     "prompt_number": 6
    },
    {
     "cell_type": "markdown",
     "metadata": {},
     "source": [
      "c) *Ni puta idea de que hacer :S*\n",
      "----\n",
      "Este punto debe expresar la posici\u00f3n tomada en el punto anterior y justificarla estadisticamente.  \n",
      "**Debe ser un HTML** "
     ]
    },
    {
     "cell_type": "markdown",
     "metadata": {},
     "source": [
      "Queremos saber si el calentamiento Global es real:  \n",
      "Analizar datos de las cinco ciudades  \n",
      "Evidenciar una tendencia al alza  \n",
      "aclarar que el calentamiento global no es solo alza de temperaturas  \n",
      "declarar los resultados inconcluyendes debido a q estas 5 ciudades no son una muestra representantiva."
     ]
    },
    {
     "cell_type": "code",
     "collapsed": false,
     "input": [],
     "language": "python",
     "metadata": {},
     "outputs": []
    }
   ],
   "metadata": {}
  }
 ]
}