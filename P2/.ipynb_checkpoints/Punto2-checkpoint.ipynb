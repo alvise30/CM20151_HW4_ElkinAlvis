{
 "metadata": {
  "name": "",
  "signature": "sha256:b96bd26719139285a28d4e3f5c8b0e895c2a8d66b136e420babd45c771caf111"
 },
 "nbformat": 3,
 "nbformat_minor": 0,
 "worksheets": [
  {
   "cells": [
    {
     "cell_type": "code",
     "collapsed": false,
     "input": [
      "%pylab inline"
     ],
     "language": "python",
     "metadata": {},
     "outputs": [
      {
       "output_type": "stream",
       "stream": "stdout",
       "text": [
        "Populating the interactive namespace from numpy and matplotlib\n"
       ]
      }
     ],
     "prompt_number": 1
    },
    {
     "cell_type": "markdown",
     "metadata": {},
     "source": [
      "a)\n",
      "---\n",
      "Este punto debe generar un arcivo *.csv* que contenga los 300 r\u00edos con mayor caudal en cat\u00e1logo dado  \n",
      "**Debe estar escrito en python**"
     ]
    },
    {
     "cell_type": "code",
     "collapsed": false,
     "input": [
      "data = open('coastal-stns-byVol-updated-oct2007.txt', 'r')\n",
      "data.read(1000)"
     ],
     "language": "python",
     "metadata": {},
     "outputs": [
      {
       "metadata": {},
       "output_type": "pyout",
       "prompt_number": 12,
       "text": [
        "'  No m2s_ratio lonm   latm   area(km2) Vol(km3/yr)  nyr   yrb yre  elev(m) CT CN River_Name      OCN Station_Name\\n   1 12462   -51.75  -0.75  4618750.0   5389.537    79.0 1928 2006    37.0 BR SA Amazon          ATL Obidos, Bra\\n   2 10291    12.75  -5.75  3475000.0   1270.203    97.1 1903 2000   270.0 CD AF Congo           ATL Kinshasa, C\\n   3 11474   -61.75   9.25   836000.0    980.088    75.8 1923 1999 -9999.0 VE SA Orinoco         ATL Pte Angostu\\n   4 10374   120.75  32.25  1705383.0    905.141    99.6 1900 2000    19.0 CN AS Changjiang      PAC Datong, Chi\\n   5 10245    89.75  24.25   554542.0    670.943    44.3 1956 2000    19.0 BD AS Brahmaputra     IND Bahadurabad\\n   6 11381   -90.25  29.75  2896021.0    537.319    79.0 1928 2006    14.1 US NA Mississippi     ATL Vicksburg, \\n   7 10381    83.25  70.75  2440000.0    583.768    69.3 1936 2006     2.0 RU AS Yenisey         ARC Igarka, Rus\\n   8 11933   -57.75 -34.75  2346000.0    476.584   101.3 1905 2006     4.0 AR SA Parana        '"
       ]
      }
     ],
     "prompt_number": 12
    },
    {
     "cell_type": "code",
     "collapsed": false,
     "input": [],
     "language": "python",
     "metadata": {},
     "outputs": [
      {
       "ename": "TypeError",
       "evalue": "'file' object has no attribute '__getitem__'",
       "output_type": "pyerr",
       "traceback": [
        "\u001b[0;31m---------------------------------------------------------------------------\u001b[0m\n\u001b[0;31mTypeError\u001b[0m                                 Traceback (most recent call last)",
        "\u001b[0;32m<ipython-input-11-6f356049f2df>\u001b[0m in \u001b[0;36m<module>\u001b[0;34m()\u001b[0m\n\u001b[0;32m----> 1\u001b[0;31m \u001b[0;32mprint\u001b[0m \u001b[0mdata\u001b[0m\u001b[0;34m[\u001b[0m\u001b[0;36m1\u001b[0m\u001b[0;34m]\u001b[0m\u001b[0;34m\u001b[0m\u001b[0m\n\u001b[0m",
        "\u001b[0;31mTypeError\u001b[0m: 'file' object has no attribute '__getitem__'"
       ]
      }
     ],
     "prompt_number": 11
    },
    {
     "cell_type": "code",
     "collapsed": false,
     "input": [],
     "language": "python",
     "metadata": {},
     "outputs": []
    }
   ],
   "metadata": {}
  }
 ]
}