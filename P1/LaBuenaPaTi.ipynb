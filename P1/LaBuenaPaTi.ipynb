{
 "metadata": {
  "name": "",
  "signature": "sha256:6056f4d5c1ec22451e6189b9aafa3f0f3503e1bb792ff0ced8642795b8a1acdc"
 },
 "nbformat": 3,
 "nbformat_minor": 0,
 "worksheets": [
  {
   "cells": [
    {
     "cell_type": "code",
     "collapsed": false,
     "input": [
      "%pylab inline\n",
      "import pandas as pd"
     ],
     "language": "python",
     "metadata": {},
     "outputs": [
      {
       "output_type": "stream",
       "stream": "stdout",
       "text": [
        "Populating the interactive namespace from numpy and matplotlib\n"
       ]
      }
     ],
     "prompt_number": 54
    },
    {
     "cell_type": "code",
     "collapsed": false,
     "input": [
      "xl = pd.ExcelFile('temperaturas.xlsx') #esto descarga el archivo de Excel, distingue entre las sheet que quiero importar e imprime el inicio \n",
      "xl.sheet_names \n",
      "[u'temperaturas'] \n",
      "dfinit = xl.parse(\"temperaturas\") #variable que guarda las columnas del archivo df\n",
      "cities = ['bogota', 'ipiales', 'cali', 'quilla', 'bucaramanga']\n"
     ],
     "language": "python",
     "metadata": {},
     "outputs": [],
     "prompt_number": 55
    },
    {
     "cell_type": "code",
     "collapsed": false,
     "input": [
      "def conver(d):\n",
      "    dates=[]   \n",
      "    for fecha in d:\n",
      "        date = datetime.datetime.strptime(fecha,\"%Y-%m-%d\")\n",
      "        dates.append(date)\n",
      "    dates = matplotlib.dates.date2num(dates)\n",
      "    dates = sort(dates)\n",
      "    return dates"
     ],
     "language": "python",
     "metadata": {},
     "outputs": [],
     "prompt_number": 56
    },
    {
     "cell_type": "code",
     "collapsed": false,
     "input": [
      "df = dfinit[dfinit.ciudad == 'ipiales']\n",
      "df = df.iloc[:,[2,3,4]]\n",
      "d  = df.iloc[:,0]\n",
      "c  = df.iloc[:,1]\n",
      "t  = df.iloc[:,2]\n",
      "dates = conver(d)"
     ],
     "language": "python",
     "metadata": {},
     "outputs": [],
     "prompt_number": 57
    },
    {
     "cell_type": "raw",
     "metadata": {},
     "source": [
      "for ciudad in cities:\n",
      "    df = dfinit[dfinit.ciudad == ciudad]\n",
      "    df = df.iloc[:,[2,3,4]]\n",
      "    d = df.iloc[:,0]\n",
      "    t = df.iloc[:,2]\n",
      "    c = df.iloc[5,1]\n",
      "    #interlin(d,t,c)"
     ]
    },
    {
     "cell_type": "code",
     "collapsed": false,
     "input": [
      "df.count()"
     ],
     "language": "python",
     "metadata": {},
     "outputs": [
      {
       "metadata": {},
       "output_type": "pyout",
       "prompt_number": 62,
       "text": [
        "fecha          516\n",
        "ciudad         516\n",
        "temperatura    446\n",
        "dtype: int64"
       ]
      }
     ],
     "prompt_number": 62
    },
    {
     "cell_type": "code",
     "collapsed": false,
     "input": [
      "df.interpolate().count()"
     ],
     "language": "python",
     "metadata": {},
     "outputs": [
      {
       "metadata": {},
       "output_type": "pyout",
       "prompt_number": 63,
       "text": [
        "fecha          516\n",
        "ciudad         516\n",
        "temperatura    516\n",
        "dtype: int64"
       ]
      }
     ],
     "prompt_number": 63
    },
    {
     "cell_type": "code",
     "collapsed": false,
     "input": [
      "inter = df.interpolate()"
     ],
     "language": "python",
     "metadata": {},
     "outputs": [],
     "prompt_number": 64
    },
    {
     "cell_type": "code",
     "collapsed": false,
     "input": [
      "plot_date(dates,(inter.iloc[:,2]), 'b')"
     ],
     "language": "python",
     "metadata": {},
     "outputs": [
      {
       "metadata": {},
       "output_type": "pyout",
       "prompt_number": 66,
       "text": [
        "[<matplotlib.lines.Line2D at 0xaf29c46c>]"
       ]
      },
      {
       "metadata": {},
       "output_type": "display_data",
       "png": "[encoded data removed]",
       "text": [
        "<matplotlib.figure.Figure at 0xaf32650c>"
       ]
      }
     ],
     "prompt_number": 66
    },
    {
     "cell_type": "code",
     "collapsed": false,
     "input": [],
     "language": "python",
     "metadata": {},
     "outputs": []
    }
   ],
   "metadata": {}
  }
 ]
}