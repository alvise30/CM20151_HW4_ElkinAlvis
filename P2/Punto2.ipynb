{
 "metadata": {
  "name": "",
  "signature": "sha256:f486c8f52cd6180a00e400de97ac6743c99ed40a4fdc1681762075fcc0d89020"
 },
 "nbformat": 3,
 "nbformat_minor": 0,
 "worksheets": [
  {
   "cells": [
    {
     "cell_type": "code",
     "collapsed": false,
     "input": [
      "%pylab inline\n",
      "import pandas as pd"
     ],
     "language": "python",
     "metadata": {},
     "outputs": [
      {
       "output_type": "stream",
       "stream": "stdout",
       "text": [
        "Populating the interactive namespace from numpy and matplotlib\n"
       ]
      }
     ],
     "prompt_number": 1
    },
    {
     "cell_type": "markdown",
     "metadata": {},
     "source": [
      "a)\n",
      "---\n",
      "Este punto debe generar un arcivo *.csv* que contenga los 300 r\u00edos con mayor caudal en cat\u00e1logo dado  \n",
      "**Debe estar escrito en python**  \n",
      "***Terminado***"
     ]
    },
    {
     "cell_type": "code",
     "collapsed": false,
     "input": [
      "xl = pd.ExcelFile('coastal-stns-byVol-updated-oct2007.xlsx') #esto descarga el archivo de Excel, distingue entre las sheet que quiero importar e imprime el inicio \n",
      "xl.sheet_names \n",
      "[u'hoja1'] \n",
      "dfini = xl.parse(\"hoja1\") #variable que guarda las columnas del archivo df"
     ],
     "language": "python",
     "metadata": {},
     "outputs": [],
     "prompt_number": 2
    },
    {
     "cell_type": "code",
     "collapsed": false,
     "input": [
      "df = dfini.iloc[:,(0,1,2,3,4,5)]\n",
      "df = df.sort(columns = 'm2s_ratio', ascending = False)\n",
      "df300 = df.iloc[:300,:]\n",
      "df300.to_csv('datos.csv', index=False)"
     ],
     "language": "python",
     "metadata": {},
     "outputs": [],
     "prompt_number": 3
    },
    {
     "cell_type": "code",
     "collapsed": false,
     "input": [
      "!head datos.csv"
     ],
     "language": "python",
     "metadata": {},
     "outputs": [
      {
       "output_type": "stream",
       "stream": "stdout",
       "text": [
        "No,m2s_ratio,lonm,latm,area(km2),Vol(km3/yr)\r\n",
        "52,53333,7.25,7.75,60500.0,10603\r\n",
        "25,36429,-77.25,6.25,9432.0,55789\r\n",
        "49,33002,-122.25,37.75,60885.0,21504\r\n",
        "70,22857,86.75,20.75,50000.0,21283\r\n",
        "29,22319,-58.75,6.25,66600.0,66436\r\n",
        "55,21111,120.25,34.25,121330.0,26971\r\n",
        "187,20000,135.25,-14.75,47400.0,3147\r\n",
        "90,19444,103.25,3.25,19000.0,16895\r\n",
        "54,19000,-81.75,52.25,118000.0,30080\r\n"
       ]
      }
     ],
     "prompt_number": 4
    },
    {
     "cell_type": "markdown",
     "metadata": {},
     "source": [
      "b)\n",
      "-----\n",
      "Este punto debe generar una gr\u00e1fica .png de los 150 r\u00edos con mayor caudal del cat\u00e1logo.   \n",
      "**Debe estar escrito en Python**\n",
      "###**Para el final, corre muy lento en mi computador**"
     ]
    },
    {
     "cell_type": "code",
     "collapsed": false,
     "input": [
      "from netCDF4 import Dataset, num2date\n",
      "from mpl_toolkits.basemap import Basemap"
     ],
     "language": "python",
     "metadata": {},
     "outputs": [
      {
       "output_type": "stream",
       "stream": "stderr",
       "text": [
        "/usr/lib/python2.7/dist-packages/pkg_resources.py:1049: UserWarning: /home/alvise/.python-eggs is writable by group/others and vulnerable to attack when used with get_resource_filename. Consider a more secure location (set with .set_extraction_path or the PYTHON_EGG_CACHE environment variable).\n",
        "  warnings.warn(msg, UserWarning)\n"
       ]
      }
     ],
     "prompt_number": 5
    },
    {
     "cell_type": "code",
     "collapsed": false,
     "input": [
      "array = np.genfromtxt(\"datos.csv\",delimiter=\",\") #sube el csv\n",
      "LAT = array[:,2] #elige las columnas de interes\n",
      "LON = array[:,3] "
     ],
     "language": "python",
     "metadata": {},
     "outputs": [],
     "prompt_number": 6
    },
    {
     "cell_type": "raw",
     "metadata": {},
     "source": [
      "plt.figure(figsize=(20,15)) #tama;o de la imagen\n",
      "map = Basemap(projection='robin', lat_0=0, lon_0=120, #ubicacion del mapa mundi centrado en dichas lat y lon\n",
      "resolution = 'l', area_thresh = 1000.0)\n",
      "plt.title(u\"Ubicacion r\u00edos m\u00e1s caudalosos\")\n",
      "map.drawcoastlines()\n",
      "#map.drawcountries()\n",
      "map.bluemarble()\n",
      "#map.drawmapboundary()\n",
      "#map.drawmeridians(np.arange(0, 360, 30))\n",
      "#map.drawparallels(np.arange(-90, 90, 30))"
     ]
    },
    {
     "cell_type": "raw",
     "metadata": {},
     "source": [
      "import time, calendar, datetime, numpy\n",
      "from mpl_toolkits.basemap import Basemap\n",
      "import matplotlib.pyplot as plt\n",
      "import urllib, os\n",
      "# data downloaded from the form at\n",
      "# http://coastwatch.pfeg.noaa.gov/erddap/tabledap/apdrcArgoAll.html \n",
      "filename, headers = urllib.urlretrieve('http://www.cgd.ucar.edu/cas/catalog/surface/dai-runoff/coastal-stns-byVol-updated-oct2007.txt')\n",
      "lats = dset.variables['latitude'][:]\n",
      "lons = dset.variables['longitude'][:]\n",
      "time = dset.variables['time']\n",
      "times = time[:]\n",
      "t1 = times.min(); t2 = times.max()\n",
      "date1 = num2date(t1, units=time.units)\n",
      "date2 = num2date(t2, units=time.units)\n",
      "dset.close()\n",
      "os.remove(filename)\n",
      "# draw map with markers for float locations\n",
      "m = Basemap(projection='hammer',lon_0=180)\n",
      "x, y = m(lons,lats)\n",
      "m.drawmapboundary(fill_color='#99ffff')\n",
      "m.fillcontinents(color='#cc9966',lake_color='#99ffff')\n",
      "m.scatter(x,y,3,marker='o',color='r')\n",
      "plt.show()"
     ]
    },
    {
     "cell_type": "markdown",
     "metadata": {},
     "source": [
      "c)\n",
      "-------\n",
      "Este punto debe graficar un archivo .nc. Tambi\u00e9n debe realizar una interpolaci\u00f3n nearest neighbors de esos\n",
      "valores, generar un grafico y comentar.  \n",
      "**Debe estar escrito en Python**"
     ]
    },
    {
     "cell_type": "code",
     "collapsed": false,
     "input": [
      "import netCDF4"
     ],
     "language": "python",
     "metadata": {},
     "outputs": [],
     "prompt_number": 7
    },
    {
     "cell_type": "code",
     "collapsed": false,
     "input": [
      "fh = Dataset('', mode='r')"
     ],
     "language": "python",
     "metadata": {},
     "outputs": [
      {
       "output_type": "stream",
       "stream": "stdout",
       "text": [
        "NETCDF4\n"
       ]
      }
     ],
     "prompt_number": 9
    },
    {
     "cell_type": "code",
     "collapsed": false,
     "input": [
      "nc= netCDF4.Dataset('air.mon.ltm.nc','a') # re-open in \u2018append\u2019 mode\n",
      "lat_dim=nc.createDimension('lat',73)\n",
      "lon_dim=nc.createDimension('lon',144)\n",
      "time_dim=nc.createDimension('time',None) # unlimited dim\n",
      "print\n",
      "nc.dimensions"
     ],
     "language": "python",
     "metadata": {},
     "outputs": [
      {
       "output_type": "stream",
       "stream": "stdout",
       "text": [
        "\n",
        "144\n"
       ]
      }
     ],
     "prompt_number": 12
    },
    {
     "cell_type": "code",
     "collapsed": false,
     "input": [
      "print len(lon_dim)\n",
      "print time_dim.isunlimited()"
     ],
     "language": "python",
     "metadata": {},
     "outputs": [
      {
       "output_type": "stream",
       "stream": "stdout",
       "text": [
        "144\n",
        "True\n"
       ]
      }
     ],
     "prompt_number": 14
    },
    {
     "cell_type": "code",
     "collapsed": false,
     "input": [],
     "language": "python",
     "metadata": {},
     "outputs": []
    }
   ],
   "metadata": {}
  }
 ]
}