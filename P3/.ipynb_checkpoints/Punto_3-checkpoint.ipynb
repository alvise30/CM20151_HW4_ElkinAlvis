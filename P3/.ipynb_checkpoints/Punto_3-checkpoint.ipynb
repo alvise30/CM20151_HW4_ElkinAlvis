{
 "metadata": {
  "name": "",
  "signature": "sha256:a1060a18b800fa9d78a3fb6436a7066878fb34c03756832f78d8991852ae14fb"
 },
 "nbformat": 3,
 "nbformat_minor": 0,
 "worksheets": [
  {
   "cells": [
    {
     "cell_type": "code",
     "collapsed": false,
     "input": [
      "%pylab inline\n",
      "import scikits.audiolab as audiolab\n",
      "from scipy.fftpack import fft, fftfreq\n",
      "import wave as wv"
     ],
     "language": "python",
     "metadata": {},
     "outputs": [
      {
       "output_type": "stream",
       "stream": "stdout",
       "text": [
        "Populating the interactive namespace from numpy and matplotlib\n"
       ]
      }
     ],
     "prompt_number": 2
    },
    {
     "cell_type": "markdown",
     "metadata": {},
     "source": [
      "a)\n",
      "---\n",
      "El punto a debe ser un programa en C q grabe audio en formato .wav  \n",
      "Al parecer es algo realmente complicado T_T  \n",
      "**Debe estar escrito en C**  "
     ]
    },
    {
     "cell_type": "markdown",
     "metadata": {},
     "source": [
      "b)\n",
      "---\n",
      "Este punto toma la se\u00f1al grabada cm input y la grafica :)  \n",
      "Ya funciona bien  \n",
      "**Debe estar escrito en python**"
     ]
    },
    {
     "cell_type": "code",
     "collapsed": false,
     "input": [],
     "language": "python",
     "metadata": {},
     "outputs": [],
     "prompt_number": 2
    },
    {
     "cell_type": "code",
     "collapsed": false,
     "input": [
      "input_signal, sampling_rate, enc = audiolab.wavread(\"prueba.wav\") #entra por parametro el archivo grabado en script de C\n",
      "print (input_signal[0:10]), sampling_rate, enc "
     ],
     "language": "python",
     "metadata": {},
     "outputs": [
      {
       "output_type": "stream",
       "stream": "stdout",
       "text": [
        "[ 0.00228882  0.0022583   0.00219727  0.00234985  0.00140381  0.00195312\n",
        "  0.00048828  0.00219727  0.00234985  0.00515747] 48000 pcm16\n"
       ]
      }
     ],
     "prompt_number": 36
    },
    {
     "cell_type": "code",
     "collapsed": false,
     "input": [
      "time_array = np.arange(0, len(input_signal)/float(sampling_rate), 1/float(sampling_rate)) #establece el conteo del tiempo"
     ],
     "language": "python",
     "metadata": {},
     "outputs": [],
     "prompt_number": 37
    },
    {
     "cell_type": "code",
     "collapsed": false,
     "input": [
      "fig = plt.figure() #grafica la voz\n",
      "plt.plot(time_array[0:len(time_array)], input_signal[0:len(time_array)])\n",
      "plt.title(\"Grafica Amplitud vs tiempo\", fontsize=20)\n",
      "plt.xlabel(\"Tiempo (s)\", fontsize=15)\n",
      "plt.xlim(0.0,5)\n",
      "plt.ylim(-0.25,0.25)\n",
      "plt.ylabel(\"Amplitud\", fontsize=15)\n",
      "plt.savefig(\"mi_voz.png\")"
     ],
     "language": "python",
     "metadata": {},
     "outputs": [
      {
       "metadata": {},
       "output_type": "display_data",
       "png": "[encoded data removed]",
       "text": [
        "<matplotlib.figure.Figure at 0xb07e0e0c>"
       ]
      }
     ],
     "prompt_number": 79
    },
    {
     "cell_type": "markdown",
     "metadata": {},
     "source": [
      "c)\n",
      "---\n",
      "Este punto realiza una fft para encontrar el arm\u00f3nico predominandte en el audio grabado y lo grafica.  \n",
      "En desarrollo  \n",
      "**Debe estar escrito en python**"
     ]
    },
    {
     "cell_type": "code",
     "collapsed": false,
     "input": [
      "n = len(time_array) #puntos por medicion\n",
      "f = 100.0 # frecuencia Hz\n",
      "dt = 1 / (f * n/32 ) #32 datos por frecuencia"
     ],
     "language": "python",
     "metadata": {},
     "outputs": [],
     "prompt_number": 103
    },
    {
     "cell_type": "code",
     "collapsed": false,
     "input": [
      "fft_x = fft(input_signal)/n\n",
      "#ignalPSD = np.abs(signalFFT) ** 2\n",
      "freq = fftfreq(n, dt)\n",
      "#i = fftfreq>0\n",
      "np.shape(freq)\n",
      "np.shape(fft_x)"
     ],
     "language": "python",
     "metadata": {},
     "outputs": [
      {
       "metadata": {},
       "output_type": "pyout",
       "prompt_number": 104,
       "text": [
        "(265594,)"
       ]
      }
     ],
     "prompt_number": 104
    },
    {
     "cell_type": "code",
     "collapsed": false,
     "input": [
      "fft_x = fft(input_signal)/(n)# FFT Normalized\n",
      "freq = fftfreq(n,dt) # Recuperamos las frecuencias\n",
      "plot(freq,abs(fft_x),'m')\n",
      "xlim(-20000,20000)\n",
      "show()"
     ],
     "language": "python",
     "metadata": {},
     "outputs": [
      {
       "metadata": {},
       "output_type": "display_data",
       "png": "[encoded data removed]",
       "text": [
        "<matplotlib.figure.Figure at 0xb09f7fac>"
       ]
      }
     ],
     "prompt_number": 106
    },
    {
     "cell_type": "code",
     "collapsed": false,
     "input": [
      "print 'El armonico principal se encuentra en: ' + str(freq[argmax(abs(fft_x))]) + 'Hz'"
     ],
     "language": "python",
     "metadata": {},
     "outputs": [
      {
       "output_type": "stream",
       "stream": "stdout",
       "text": [
        "El armonico principal se encuentra en: 1556.25Hz\n"
       ]
      }
     ],
     "prompt_number": 116
    },
    {
     "cell_type": "code",
     "collapsed": false,
     "input": [
      "def arm_principal(fft_x):\n",
      "    d = abs(fft_x[:])\n",
      "    temp = 0\n",
      "    for element in d:\n",
      "        if element > temp:\n",
      "            temp = element    \n",
      "    \n",
      "    for i in range(len(fft_x)):\n",
      "        if abs(fft_x[i]) == temp:\n",
      "            print 'A ' + str(freq[i]) + 'Hz se encuentra el arm\u00f3nico principal'\n",
      "            print temp\n",
      "            break"
     ],
     "language": "python",
     "metadata": {},
     "outputs": [],
     "prompt_number": 101
    },
    {
     "cell_type": "raw",
     "metadata": {},
     "source": [
      "n = 10000 # number of point in the whole interval\n",
      "f =  4800 #  frequency in Hz\n",
      "dt = 1 /(f * n/32.0 ) # samples per unit requency\n",
      "t = linspace( 0, (n-1)*dt, n) \n",
      "y = 2*sin(2*t*pi)"
     ]
    },
    {
     "cell_type": "raw",
     "metadata": {},
     "source": [
      "plt.plot(t,tmp)"
     ]
    },
    {
     "cell_type": "raw",
     "metadata": {},
     "source": [
      "fft_x = fft(input_signal)/(n)# FFT Normalized\n",
      "freq = fftfreq(n,dt) # Recuperamos las frecuencias\n",
      "plot(freq,abs(fft_x),'m')\n",
      "xlim(-200000,200000)\n",
      "show()"
     ]
    },
    {
     "cell_type": "code",
     "collapsed": false,
     "input": [],
     "language": "python",
     "metadata": {},
     "outputs": [
      {
       "metadata": {},
       "output_type": "pyout",
       "prompt_number": 45,
       "text": [
        "112200.0"
       ]
      }
     ],
     "prompt_number": 45
    },
    {
     "cell_type": "code",
     "collapsed": false,
     "input": [],
     "language": "python",
     "metadata": {},
     "outputs": [],
     "prompt_number": 8
    },
    {
     "cell_type": "code",
     "collapsed": false,
     "input": [],
     "language": "python",
     "metadata": {},
     "outputs": [],
     "prompt_number": 8
    },
    {
     "cell_type": "markdown",
     "metadata": {},
     "source": [
      "d)\n",
      "---\n",
      "Este punto es el makefile que ejecuta todos estos scripts."
     ]
    },
    {
     "cell_type": "code",
     "collapsed": false,
     "input": [],
     "language": "python",
     "metadata": {},
     "outputs": [],
     "prompt_number": 8
    }
   ],
   "metadata": {}
  }
 ]
}